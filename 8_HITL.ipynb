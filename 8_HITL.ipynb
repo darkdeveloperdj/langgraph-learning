{
 "cells": [
  {
   "cell_type": "code",
   "execution_count": 3,
   "id": "7ebcd46e",
   "metadata": {},
   "outputs": [
    {
     "name": "stdout",
     "output_type": "stream",
     "text": [
      "The current price for one share of Microsoft (MSFT) stock is $200.30. To calculate the price for 10 shares, we multiply this value by 10.\n",
      "\n",
      "For 10 MSFT stocks, the current price would be: \n",
      "$200.30 * 10 = $2,003.00\n",
      "[Interrupt(value='Approve buying 10 MSFT stocks for $2003.00?', id='f4d86319222f9f332ca5088ca9a895f8')]\n",
      "The trade was unable to be completed. You may need to check your available funds or account settings before attempting the purchase again.\n",
      "\n",
      "**Available Cash:** $1000\n",
      "**Account Balance:** $10,000\n"
     ]
    }
   ],
   "source": [
    "from dotenv import load_dotenv\n",
    "load_dotenv()\n",
    "\n",
    "from langchain.chat_models import init_chat_model\n",
    "from typing import Annotated\n",
    "from typing_extensions import TypedDict\n",
    "from langgraph.graph import StateGraph, START, END\n",
    "from langgraph.graph.message import add_messages\n",
    "from langchain_core.tools import tool\n",
    "from langgraph.prebuilt import ToolNode, tools_condition\n",
    "from langgraph.checkpoint.memory import MemorySaver\n",
    "from langgraph.types import interrupt, Command\n",
    "\n",
    "\n",
    "class State(TypedDict):\n",
    "    messages: Annotated[list, add_messages]\n",
    "\n",
    "@tool\n",
    "def get_stock_price(symbol: str) -> float:\n",
    "    '''Return the current price of a stock given the stock symbol'''\n",
    "    return {\"MSFT\": 200.3, \"AAPL\": 100.4, \"AMZN\": 150.0, \"RIL\": 87.6}.get(symbol, 0.0)\n",
    "\n",
    "@tool\n",
    "def buy_stocks(symbol: str, quantity: int, total_price: float) -> str:\n",
    "    '''Buy stocks given the stock symbol and quantity'''\n",
    "    decision = interrupt(f\"Approve buying {quantity} {symbol} stocks for ${total_price:.2f}?\")\n",
    "\n",
    "    if decision == \"yes\":\n",
    "        return f\"You bought {quantity} shares of {symbol} for a total price of {total_price}\"\n",
    "    else:\n",
    "        return \"Buying declined.\"\n",
    "\n",
    "\n",
    "tools = [get_stock_price, buy_stocks]\n",
    "\n",
    "llm = init_chat_model(model=\"llama3.1:8b\", model_provider=\"ollama\")\n",
    "llm_with_tools = llm.bind_tools(tools)\n",
    "\n",
    "def chatbot_node(state: State):\n",
    "    msg = llm_with_tools.invoke(state[\"messages\"])\n",
    "    return {\"messages\": [msg]}\n",
    "\n",
    "memory = MemorySaver()\n",
    "builder = StateGraph(State)\n",
    "builder.add_node(\"chatbot\", chatbot_node)\n",
    "builder.add_node(\"tools\", ToolNode(tools))\n",
    "builder.add_edge(START, \"chatbot\")\n",
    "builder.add_conditional_edges(\"chatbot\", tools_condition)\n",
    "builder.add_edge(\"tools\", \"chatbot\")\n",
    "builder.add_edge(\"chatbot\", END)\n",
    "graph = builder.compile(checkpointer=memory)\n",
    "\n",
    "config = {\"configurable\": {\"thread_id\": \"buy_thread\"}}\n",
    "\n",
    "# Step 1: user asks price\n",
    "state = graph.invoke({\"messages\":[{\"role\":\"user\",\"content\":\"What is the current price of 10 MSFT stocks?\"}]}, config=config)\n",
    "print(state[\"messages\"][-1].content)\n",
    "\n",
    "# Step 2: user asks to buy\n",
    "state = graph.invoke({\"messages\":[{\"role\":\"user\",\"content\":\"Buy 10 MSFT stocks at current price.\"}]}, config=config)\n",
    "print(state.get(\"__interrupt__\"))\n",
    "\n",
    "decision = input(\"Approve (yes/no): \")\n",
    "state = graph.invoke(Command(resume=decision), config=config)\n",
    "print(state[\"messages\"][-1].content)"
   ]
  }
 ],
 "metadata": {
  "kernelspec": {
   "display_name": "langgraph-learning",
   "language": "python",
   "name": "python3"
  },
  "language_info": {
   "codemirror_mode": {
    "name": "ipython",
    "version": 3
   },
   "file_extension": ".py",
   "mimetype": "text/x-python",
   "name": "python",
   "nbconvert_exporter": "python",
   "pygments_lexer": "ipython3",
   "version": "3.11.0"
  }
 },
 "nbformat": 4,
 "nbformat_minor": 5
}
