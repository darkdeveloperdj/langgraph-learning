{
 "cells": [
  {
   "cell_type": "code",
   "execution_count": 17,
   "id": "f5319347",
   "metadata": {},
   "outputs": [
    {
     "data": {
      "text/plain": [
       "True"
      ]
     },
     "execution_count": 17,
     "metadata": {},
     "output_type": "execute_result"
    }
   ],
   "source": [
    "from dotenv import load_dotenv\n",
    "from typing import TypedDict, Literal, Annotated\n",
    "from langgraph.graph import StateGraph, START, END\n",
    "from langchain.chat_models import init_chat_model\n",
    "from IPython.display import display, Image\n",
    "from langgraph.graph.message import add_messages\n",
    "\n",
    "\n",
    "load_dotenv()"
   ]
  },
  {
   "cell_type": "code",
   "execution_count": 18,
   "id": "243b3f17",
   "metadata": {},
   "outputs": [],
   "source": [
    "\n",
    "\n",
    "llm = init_chat_model(model=\"llama3.1:8b\", model_provider=\"ollama\")\n",
    "\n",
    "class State(TypedDict):\n",
    "     messages: Annotated[list, add_messages]\n",
    "\n",
    "\n",
    "def chatbot(state: State) -> State:\n",
    "    return {\"messages\": [llm.invoke(state[\"messages\"])]}\n",
    "\n",
    "\n",
    "\n",
    "builder = StateGraph(State)\n",
    "\n",
    "builder.add_node(\"chatbot_node\", chatbot)\n",
    "\n",
    "builder.add_edge(START, \"chatbot_node\")\n",
    "builder.add_edge(\"chatbot_node\", END)\n",
    "graph = builder.compile()"
   ]
  },
  {
   "cell_type": "code",
   "execution_count": 19,
   "id": "a4eadee0",
   "metadata": {},
   "outputs": [
    {
     "data": {
      "text/plain": [
       "[HumanMessage(content='First man landed on the moon?', additional_kwargs={}, response_metadata={}, id='33bc7eda-68f5-4b05-b047-f80f91fc4a05'),\n",
       " AIMessage(content='The first man to land on the moon was Neil Armstrong, an American astronaut who commanded the Apollo 11 mission. On July 20, 1969, Armstrong stepped out of the lunar module Eagle and onto the moon\\'s surface, famously declaring:\\n\\n\"That\\'s one small step for man, one giant leap for mankind.\"\\n\\nArmstrong was followed by fellow astronaut Edwin \"Buzz\" Aldrin, who also walked on the moon during the mission. Michael Collins remained in orbit around the moon in the command module Columbia.\\n\\nThe Apollo 11 mission marked a historic achievement in space exploration and paved the way for future manned missions to the moon and beyond!', additional_kwargs={}, response_metadata={'model': 'llama3.1:8b', 'created_at': '2025-07-30T06:46:00.1376597Z', 'done': True, 'done_reason': 'stop', 'total_duration': 26136282700, 'load_duration': 8978101800, 'prompt_eval_count': 17, 'prompt_eval_duration': 1420593100, 'eval_count': 129, 'eval_duration': 15727391900, 'model_name': 'llama3.1:8b'}, id='run--01efdf2f-0138-4fb3-8cd9-76986e334728-0', usage_metadata={'input_tokens': 17, 'output_tokens': 129, 'total_tokens': 146})]"
      ]
     },
     "execution_count": 19,
     "metadata": {},
     "output_type": "execute_result"
    }
   ],
   "source": [
    "message = {\"role\": \"user\", \"content\": \"First man landed on the moon?\"}\n",
    "state = {\"messages\": [message]}\n",
    "response = graph.invoke(state)\n",
    "\n",
    "response[\"messages\"]"
   ]
  },
  {
   "cell_type": "code",
   "execution_count": null,
   "id": "514f14b6",
   "metadata": {},
   "outputs": [],
   "source": [
    "state = None\n",
    "while True:\n",
    "    user_input = input(\"You: \")\n",
    "    if user_input.lower() in [\"exit\", \"quit\"]:\n",
    "        break\n",
    "    if state is None:\n",
    "        state = {\"messages\": [{\"role\": \"user\", \"content\": user_input}]}\n",
    "    else:\n",
    "        state[\"messages\"].append({\"role\": \"user\", \"content\": user_input})\n",
    "        \n",
    "    response = graph.invoke(state)\n",
    "    for msg in response[\"messages\"]:\n",
    "        print(f\"{msg['role']}: {msg['content']}\")"
   ]
  }
 ],
 "metadata": {
  "kernelspec": {
   "display_name": "langgraph-learning",
   "language": "python",
   "name": "python3"
  },
  "language_info": {
   "codemirror_mode": {
    "name": "ipython",
    "version": 3
   },
   "file_extension": ".py",
   "mimetype": "text/x-python",
   "name": "python",
   "nbconvert_exporter": "python",
   "pygments_lexer": "ipython3",
   "version": "3.11.0"
  }
 },
 "nbformat": 4,
 "nbformat_minor": 5
}
