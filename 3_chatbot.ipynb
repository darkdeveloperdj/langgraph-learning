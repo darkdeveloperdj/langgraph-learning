{
 "cells": [
  {
   "cell_type": "code",
   "id": "f5319347",
   "metadata": {
    "ExecuteTime": {
     "end_time": "2025-07-30T10:24:08.647628Z",
     "start_time": "2025-07-30T10:24:07.916884Z"
    }
   },
   "source": [
    "from dotenv import load_dotenv\n",
    "from typing import TypedDict, Literal, Annotated\n",
    "from langgraph.graph import StateGraph, START, END\n",
    "from langchain.chat_models import init_chat_model\n",
    "from IPython.display import display, Image\n",
    "from langgraph.graph.message import add_messages\n",
    "\n",
    "\n",
    "load_dotenv()"
   ],
   "outputs": [
    {
     "data": {
      "text/plain": [
       "True"
      ]
     },
     "execution_count": 1,
     "metadata": {},
     "output_type": "execute_result"
    }
   ],
   "execution_count": 1
  },
  {
   "cell_type": "code",
   "id": "243b3f17",
   "metadata": {
    "ExecuteTime": {
     "end_time": "2025-07-30T10:24:09.174485Z",
     "start_time": "2025-07-30T10:24:08.915363Z"
    }
   },
   "source": [
    "# Init LLM\n",
    "llm = init_chat_model(model=\"llama3.1:8b\", model_provider=\"ollama\")\n",
    "\n",
    "# Define state\n",
    "class State(TypedDict):\n",
    "    messages: Annotated[list, add_messages]\n",
    "\n",
    "# Node logic\n",
    "def chatbot(state: State) -> State:\n",
    "    return {\"messages\": state[\"messages\"] + [llm.invoke(state[\"messages\"])]}\n",
    "\n",
    "# Build graph\n",
    "builder = StateGraph(State)\n",
    "builder.add_node(\"chatbot_node\", chatbot)\n",
    "builder.add_edge(START, \"chatbot_node\")\n",
    "builder.add_edge(\"chatbot_node\", END)\n",
    "graph = builder.compile()"
   ],
   "outputs": [],
   "execution_count": 2
  },
  {
   "cell_type": "code",
   "id": "a4eadee0",
   "metadata": {
    "ExecuteTime": {
     "end_time": "2025-07-30T10:24:16.637069Z",
     "start_time": "2025-07-30T10:24:09.190120Z"
    }
   },
   "source": [
    "# Chat loop\n",
    "state = None\n",
    "try:\n",
    "    while True:\n",
    "        user_input = input(\"You: \")\n",
    "        if user_input.lower() in {\"exit\", \"quit\"}:\n",
    "            print(\"Exiting chat.\")\n",
    "            break\n",
    "\n",
    "        # Initialize or update state\n",
    "        if state is None:\n",
    "            state = {\"messages\": [{\"role\": \"user\", \"content\": user_input}]}\n",
    "        else:\n",
    "            state[\"messages\"].append({\"role\": \"user\", \"content\": user_input})\n",
    "\n",
    "        # Get updated state\n",
    "        state = graph.invoke(state)\n",
    "        bot_response = state[\"messages\"][-1]\n",
    "\n",
    "        # Print bot response\n",
    "        print(\"Bot:\", bot_response[\"content\"])\n",
    "\n",
    "except KeyboardInterrupt:\n",
    "    print(\"\\nChat ended by user.\")"
   ],
   "outputs": [
    {
     "ename": "TypeError",
     "evalue": "'AIMessage' object is not subscriptable",
     "output_type": "error",
     "traceback": [
      "\u001B[31m---------------------------------------------------------------------------\u001B[39m",
      "\u001B[31mTypeError\u001B[39m                                 Traceback (most recent call last)",
      "\u001B[36mCell\u001B[39m\u001B[36m \u001B[39m\u001B[32mIn[3]\u001B[39m\u001B[32m, line 21\u001B[39m\n\u001B[32m     18\u001B[39m         bot_response = state[\u001B[33m\"\u001B[39m\u001B[33mmessages\u001B[39m\u001B[33m\"\u001B[39m][-\u001B[32m1\u001B[39m]\n\u001B[32m     20\u001B[39m         \u001B[38;5;66;03m# Print bot response\u001B[39;00m\n\u001B[32m---> \u001B[39m\u001B[32m21\u001B[39m         \u001B[38;5;28mprint\u001B[39m(\u001B[33m\"\u001B[39m\u001B[33mBot:\u001B[39m\u001B[33m\"\u001B[39m, \u001B[43mbot_response\u001B[49m\u001B[43m[\u001B[49m\u001B[33;43m\"\u001B[39;49m\u001B[33;43mcontent\u001B[39;49m\u001B[33;43m\"\u001B[39;49m\u001B[43m]\u001B[49m)\n\u001B[32m     23\u001B[39m \u001B[38;5;28;01mexcept\u001B[39;00m \u001B[38;5;167;01mKeyboardInterrupt\u001B[39;00m:\n\u001B[32m     24\u001B[39m     \u001B[38;5;28mprint\u001B[39m(\u001B[33m\"\u001B[39m\u001B[38;5;130;01m\\n\u001B[39;00m\u001B[33mChat ended by user.\u001B[39m\u001B[33m\"\u001B[39m)\n",
      "\u001B[31mTypeError\u001B[39m: 'AIMessage' object is not subscriptable"
     ]
    }
   ],
   "execution_count": 3
  }
 ],
 "metadata": {
  "kernelspec": {
   "display_name": "langgraph-learning",
   "language": "python",
   "name": "python3"
  },
  "language_info": {
   "codemirror_mode": {
    "name": "ipython",
    "version": 3
   },
   "file_extension": ".py",
   "mimetype": "text/x-python",
   "name": "python",
   "nbconvert_exporter": "python",
   "pygments_lexer": "ipython3",
   "version": "3.11.0"
  }
 },
 "nbformat": 4,
 "nbformat_minor": 5
}
