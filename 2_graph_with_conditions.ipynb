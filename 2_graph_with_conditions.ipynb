{
 "cells": [
  {
   "cell_type": "code",
   "execution_count": null,
   "id": "57c82b70",
   "metadata": {},
   "outputs": [],
   "source": [
    "from typing import TypedDict, Literal"
   ]
  },
  {
   "cell_type": "code",
   "execution_count": null,
   "id": "e2f49831",
   "metadata": {},
   "outputs": [],
   "source": [
    "class PortfolioSate(TypedDict):\n",
    "    amount_usd : float\n",
    "    total_usd : float\n",
    "    target_currency: Literal['inr', 'eur']\n",
    "    # Assuming we want to convert to INR, we can add a field for total in INR\n",
    "    total: float"
   ]
  },
  {
   "cell_type": "code",
   "execution_count": null,
   "id": "b105793a",
   "metadata": {},
   "outputs": [],
   "source": [
    "def calc_total(state:PortfolioSate) -> PortfolioSate:\n",
    "    state['total_usd'] = state['amount_usd'] * 1.0  # Assuming 1 USD = 1 USD for simplicity\n",
    "    return state\n",
    "\n",
    "\n",
    "def convert_to_inr(state: PortfolioSate) -> PortfolioSate:\n",
    "    state['total'] = state['total_usd'] * 85  # Assuming 1 USD = 85 INR for simplicity\n",
    "    return state\n",
    "\n",
    "\n",
    "def convert_to_eur(state: PortfolioSate) -> PortfolioSate:\n",
    "    state['total'] = state['total_usd'] * 0.85  # Assuming 1 USD = 0.85 EUR for simplicity\n",
    "    return state\n",
    "\n",
    "def choose_conversion(state: PortfolioSate) -> str:\n",
    "    return state['target_currency']"
   ]
  },
  {
   "cell_type": "code",
   "execution_count": null,
   "id": "6ead7ae4",
   "metadata": {},
   "outputs": [],
   "source": [
    "from langgraph.graph import StateGraph, START, END\n",
    "builder = StateGraph(PortfolioSate)\n",
    "\n",
    "builder.add_node(\"calc_total\", calc_total)\n",
    "builder.add_node(\"convert_to_inr\", convert_to_inr)\n",
    "builder.add_node(\"convert_to_eur\", convert_to_eur)\n",
    "\n",
    "builder.add_edge(START, \"calc_total\")\n",
    "builder.add_conditional_edges(\n",
    "    \"calc_total\", \n",
    "    choose_conversion,\n",
    "    {'inr': \"convert_to_inr\", 'eur': \"convert_to_eur\"}\n",
    ")\n",
    "builder.add_edge([\"convert_to_eur\", \"convert_to_inr\"], END)\n",
    "\n",
    "graph = builder.compile()"
   ]
  },
  {
   "cell_type": "code",
   "execution_count": null,
   "id": "34af48e7",
   "metadata": {},
   "outputs": [],
   "source": [
    "from IPython.display import display, Image\n",
    "display(Image(graph.get_graph().draw_mermaid_png()))"
   ]
  }
 ],
 "metadata": {
  "language_info": {
   "name": "python"
  }
 },
 "nbformat": 4,
 "nbformat_minor": 5
}
