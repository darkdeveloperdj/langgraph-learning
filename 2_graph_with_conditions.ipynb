{
 "cells": [
  {
   "cell_type": "code",
   "execution_count": 1,
   "id": "57c82b70",
   "metadata": {},
   "outputs": [],
   "source": [
    "from typing import TypedDict, Literal"
   ]
  },
  {
   "cell_type": "code",
   "execution_count": 2,
   "id": "e2f49831",
   "metadata": {},
   "outputs": [],
   "source": [
    "class PortfolioSate(TypedDict):\n",
    "    amount_usd : float\n",
    "    total_usd : float\n",
    "    target_currency: Literal['inr', 'eur']\n",
    "    # Assuming we want to convert to INR, we can add a field for total in INR\n",
    "    total: float"
   ]
  },
  {
   "cell_type": "code",
   "execution_count": 3,
   "id": "b105793a",
   "metadata": {},
   "outputs": [],
   "source": [
    "def calc_total(state:PortfolioSate) -> PortfolioSate:\n",
    "    state['total_usd'] = state['amount_usd'] * 1.0  # Assuming 1 USD = 1 USD for simplicity\n",
    "    return state\n",
    "\n",
    "\n",
    "def convert_to_inr(state: PortfolioSate) -> PortfolioSate:\n",
    "    state['total'] = state['total_usd'] * 85  # Assuming 1 USD = 85 INR for simplicity\n",
    "    return state\n",
    "\n",
    "\n",
    "def convert_to_eur(state: PortfolioSate) -> PortfolioSate:\n",
    "    state['total'] = state['total_usd'] * 0.85  # Assuming 1 USD = 0.85 EUR for simplicity\n",
    "    return state\n",
    "\n",
    "def choose_conversion(state: PortfolioSate) -> str:\n",
    "    return state['target_currency']"
   ]
  },
  {
   "cell_type": "code",
   "execution_count": 4,
   "id": "6ead7ae4",
   "metadata": {},
   "outputs": [],
   "source": [
    "from langgraph.graph import StateGraph, START, END\n",
    "builder = StateGraph(PortfolioSate)\n",
    "\n",
    "builder.add_node(\"calc_total\", calc_total)\n",
    "builder.add_node(\"convert_to_inr\", convert_to_inr)\n",
    "builder.add_node(\"convert_to_eur\", convert_to_eur)\n",
    "\n",
    "builder.add_edge(START, \"calc_total\")\n",
    "builder.add_conditional_edges(\n",
    "    \"calc_total\", \n",
    "    choose_conversion,\n",
    "    {'inr': \"convert_to_inr\", 'eur': \"convert_to_eur\"}\n",
    ")\n",
    "builder.add_edge([\"convert_to_eur\", \"convert_to_inr\"], END)\n",
    "\n",
    "graph = builder.compile()"
   ]
  },
  {
   "cell_type": "code",
   "execution_count": 5,
   "id": "34af48e7",
   "metadata": {},
   "outputs": [
    {
     "data": {
      "image/png": "[encoded data removed]",
      "text/plain": [
       "<IPython.core.display.Image object>"
      ]
     },
     "metadata": {},
     "output_type": "display_data"
    }
   ],
   "source": [
    "from IPython.display import display, Image\n",
    "display(Image(graph.get_graph().draw_mermaid_png()))"
   ]
  },
  {
   "cell_type": "code",
   "execution_count": 9,
   "id": "4f177798",
   "metadata": {},
   "outputs": [
    {
     "name": "stdout",
     "output_type": "stream",
     "text": [
      "{'amount_usd': 1000.0, 'total_usd': 1000.0, 'target_currency': 'inr', 'total': 85000.0}\n"
     ]
    }
   ],
   "source": [
    "gtest = graph.invoke({\"amount_usd\": 1000.0, \"target_currency\": \"inr\"})  # Example input\n",
    "print(gtest)    \n",
    "# This code defines a simple state graph that calculates the total amount in USD and converts it to either INR or EUR based on the target currency specified in the input. The graph is visualized using Mermaid syntax.        \n",
    "\n"
   ]
  }
 ],
 "metadata": {
  "kernelspec": {
   "display_name": "langgraph-learning",
   "language": "python",
   "name": "python3"
  },
  "language_info": {
   "codemirror_mode": {
    "name": "ipython",
    "version": 3
   },
   "file_extension": ".py",
   "mimetype": "text/x-python",
   "name": "python",
   "nbconvert_exporter": "python",
   "pygments_lexer": "ipython3",
   "version": "3.11.0"
  }
 },
 "nbformat": 4,
 "nbformat_minor": 5
}
