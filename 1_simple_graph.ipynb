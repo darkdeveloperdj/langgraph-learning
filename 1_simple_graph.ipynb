{
 "cells": [
  {
   "cell_type": "code",
   "execution_count": 1,
   "id": "0cbf09f1",
   "metadata": {},
   "outputs": [],
   "source": [
    "from typing import TypedDict"
   ]
  },
  {
   "cell_type": "code",
   "execution_count": 2,
   "id": "8b7a4106",
   "metadata": {},
   "outputs": [],
   "source": [
    "class PortfolioSate(TypedDict):\n",
    "    amount_usd : float\n",
    "    total_usd : float\n",
    "    total_inr: float"
   ]
  },
  {
   "cell_type": "code",
   "execution_count": 3,
   "id": "4fc50312",
   "metadata": {},
   "outputs": [],
   "source": [
    "def calc_total(state:PortfolioSate) -> PortfolioSate:\n",
    "    state['total_usd'] = state['amount_usd'] * 1.0  # Assuming 1 USD = 1 USD for simplicity\n",
    "    return state\n",
    "\n",
    "\n",
    "def convert_to_inr(state: PortfolioSate) -> PortfolioSate:\n",
    "    state['total_inr'] = state['total_usd'] * 85  # Assuming 1 USD = 85 INR for simplicity\n",
    "    return state\n",
    "\n"
   ]
  },
  {
   "cell_type": "code",
   "execution_count": 4,
   "id": "5fc2d83c",
   "metadata": {},
   "outputs": [],
   "source": [
    "from langgraph.graph import StateGraph, START, END\n",
    "builder = StateGraph(PortfolioSate)\n",
    "\n",
    "builder.add_node(\"calc_total\", calc_total)\n",
    "builder.add_node(\"convert_to_inr\", convert_to_inr)\n",
    "\n",
    "builder.add_edge(START, \"calc_total\")\n",
    "builder.add_edge(\"calc_total\", \"convert_to_inr\")\n",
    "builder.add_edge(\"convert_to_inr\", END)\n",
    "\n",
    "graph = builder.compile()"
   ]
  },
  {
   "cell_type": "code",
   "execution_count": null,
   "id": "3d12af5f",
   "metadata": {},
   "outputs": [],
   "source": [
    "from IPython.display import display, Image\n",
    "display(Image(graph.get_graph().draw_mermaid_png()))"
   ]
  },
  {
   "cell_type": "code",
   "execution_count": null,
   "id": "5e57ea44",
   "metadata": {},
   "outputs": [],
   "source": [
    "graph.invoke({\"amount_usd\": 1000.0})  # Example input"
   ]
  }
 ],
 "metadata": {
  "kernelspec": {
   "display_name": "langgraph-learning",
   "language": "python",
   "name": "python3"
  },
  "language_info": {
   "codemirror_mode": {
    "name": "ipython",
    "version": 3
   },
   "file_extension": ".py",
   "mimetype": "text/x-python",
   "name": "python",
   "nbconvert_exporter": "python",
   "pygments_lexer": "ipython3",
   "version": "3.11.0"
  }
 },
 "nbformat": 4,
 "nbformat_minor": 5
}
